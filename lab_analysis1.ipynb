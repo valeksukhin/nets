{
  "nbformat": 4,
  "nbformat_minor": 0,
  "metadata": {
    "colab": {
      "name": "lab_analysis1.ipynb",
      "provenance": [],
      "collapsed_sections": []
    },
    "kernelspec": {
      "name": "python3",
      "display_name": "Python 3"
    },
    "language_info": {
      "name": "python"
    }
  },
  "cells": [
    {
      "cell_type": "code",
      "metadata": {
        "colab": {
          "base_uri": "https://localhost:8080/"
        },
        "id": "Eph01hCFU8t7",
        "outputId": "4553fd29-9e39-4812-9a70-30950966113b"
      },
      "source": [
        "!pip install powerlaw"
      ],
      "execution_count": null,
      "outputs": [
        {
          "output_type": "stream",
          "name": "stdout",
          "text": [
            "Collecting powerlaw\n",
            "  Downloading powerlaw-1.5-py3-none-any.whl (24 kB)\n",
            "Requirement already satisfied: mpmath in /usr/local/lib/python3.7/dist-packages (from powerlaw) (1.2.1)\n",
            "Requirement already satisfied: scipy in /usr/local/lib/python3.7/dist-packages (from powerlaw) (1.4.1)\n",
            "Requirement already satisfied: numpy in /usr/local/lib/python3.7/dist-packages (from powerlaw) (1.19.5)\n",
            "Requirement already satisfied: matplotlib in /usr/local/lib/python3.7/dist-packages (from powerlaw) (3.2.2)\n",
            "Requirement already satisfied: kiwisolver>=1.0.1 in /usr/local/lib/python3.7/dist-packages (from matplotlib->powerlaw) (1.3.2)\n",
            "Requirement already satisfied: cycler>=0.10 in /usr/local/lib/python3.7/dist-packages (from matplotlib->powerlaw) (0.11.0)\n",
            "Requirement already satisfied: python-dateutil>=2.1 in /usr/local/lib/python3.7/dist-packages (from matplotlib->powerlaw) (2.8.2)\n",
            "Requirement already satisfied: pyparsing!=2.0.4,!=2.1.2,!=2.1.6,>=2.0.1 in /usr/local/lib/python3.7/dist-packages (from matplotlib->powerlaw) (2.4.7)\n",
            "Requirement already satisfied: six>=1.5 in /usr/local/lib/python3.7/dist-packages (from python-dateutil>=2.1->matplotlib->powerlaw) (1.15.0)\n",
            "Installing collected packages: powerlaw\n",
            "Successfully installed powerlaw-1.5\n"
          ]
        }
      ]
    },
    {
      "cell_type": "markdown",
      "metadata": {
        "id": "igSolggKIg9R"
      },
      "source": [
        "## 1. Теория (6 баллов)\n",
        "\n",
        " Сеть $G(t)$ образуется присоединением к центральному узлу $t$ треугольников - см. рисунок. ![picture](https://drive.google.com/uc?export=view&id=10oUgXsay2rBYHGIbKoHJVvj95Rl632qz)\n",
        " \n",
        " Пусть всего в сети $n$ вершин, $n=2t+1$. \n",
        "\n",
        "*  (2 балла) Определите средний коэффициент кластеризации вершин в сети $\\overline{C}$  как функцию $n$. Чему равен предел при $n \\to \\infty$? \n",
        "* (2 балла) Определите транзитивность  $T$ в зависимости от числа вершин $n$. Чему равен предел при $n \\to \\infty$? \n",
        "* (2 балла) Определите коэффициент ассортативности  $r$ в зависимости от числа вершин $n$. Чему равен предел при $n \\to \\infty$? "
      ]
    },
    {
      "cell_type": "markdown",
      "metadata": {
        "id": "8-NGt6e5PuDF"
      },
      "source": [
        "*  (2 балла) Определите средний коэффициент кластеризации вершин в сети $\\overline{C}$  как функцию $n$. Чему равен предел при $n \\to \\infty$?"
      ]
    },
    {
      "cell_type": "markdown",
      "metadata": {
        "id": "icO8P8rxY8UO"
      },
      "source": [
        "https://drive.google.com/file/d/1Tqf9Y7p1wmUs1Io1MlJ6ePQN6wjAj34z/view?usp=sharing\n"
      ]
    },
    {
      "cell_type": "markdown",
      "metadata": {
        "id": "b7FgTHvZY8lA"
      },
      "source": [
        "(2 балла) Определите транзитивность  T  в зависимости от числа вершин  n . Чему равен предел при  n→∞ ?"
      ]
    },
    {
      "cell_type": "markdown",
      "metadata": {
        "id": "TzpZ34RQeoWM"
      },
      "source": [
        "https://drive.google.com/file/d/15yI0CqbYtC0EshL838-CGwDmJabu5lFk/view?usp=sharing\n"
      ]
    },
    {
      "cell_type": "code",
      "metadata": {
        "id": "cgrfbgO08hXY"
      },
      "source": [
        "import numpy as np\n",
        "import matplotlib.pyplot as plt\n",
        "%matplotlib inline\n",
        "import powerlaw"
      ],
      "execution_count": null,
      "outputs": []
    },
    {
      "cell_type": "code",
      "metadata": {
        "id": "KzMB0TcC80Ld"
      },
      "source": [
        "import networkx as nx "
      ],
      "execution_count": null,
      "outputs": []
    },
    {
      "cell_type": "code",
      "metadata": {
        "colab": {
          "base_uri": "https://localhost:8080/"
        },
        "id": "M2RqiE-O97ev",
        "outputId": "8f037b43-5641-41d2-95a8-a26ad28a09ee"
      },
      "source": [
        "from google.colab import drive\n",
        "drive.mount('/content/drive')"
      ],
      "execution_count": null,
      "outputs": [
        {
          "output_type": "stream",
          "name": "stdout",
          "text": [
            "Drive already mounted at /content/drive; to attempt to forcibly remount, call drive.mount(\"/content/drive\", force_remount=True).\n"
          ]
        }
      ]
    },
    {
      "cell_type": "code",
      "metadata": {
        "colab": {
          "resources": {
            "http://localhost:8080/nbextensions/google.colab/files.js": {
              "data": "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",
              "ok": true,
              "headers": [
                [
                  "content-type",
                  "application/javascript"
                ]
              ],
              "status": 200,
              "status_text": ""
            }
          },
          "base_uri": "https://localhost:8080/",
          "height": 109
        },
        "id": "P4pMBWMe-JUR",
        "outputId": "cc8d93b7-bcf1-4bd2-8285-6b0002ad1f9d"
      },
      "source": [
        "from google.colab import files\n",
        "files.upload()"
      ],
      "execution_count": null,
      "outputs": [
        {
          "output_type": "display_data",
          "data": {
            "text/html": [
              "\n",
              "     <input type=\"file\" id=\"files-37a074a9-d34e-45ee-adda-84036799d4ab\" name=\"files[]\" multiple disabled\n",
              "        style=\"border:none\" />\n",
              "     <output id=\"result-37a074a9-d34e-45ee-adda-84036799d4ab\">\n",
              "      Upload widget is only available when the cell has been executed in the\n",
              "      current browser session. Please rerun this cell to enable.\n",
              "      </output>\n",
              "      <script src=\"/nbextensions/google.colab/files.js\"></script> "
            ],
            "text/plain": [
              "<IPython.core.display.HTML object>"
            ]
          },
          "metadata": {}
        },
        {
          "output_type": "stream",
          "name": "stdout",
          "text": [
            "Saving rt-twitter-copen.txt to rt-twitter-copen.txt\n"
          ]
        },
        {
          "output_type": "execute_result",
          "data": {
            "text/plain": [
              "{'rt-twitter-copen.txt': b'245 1\\n512 1\\n209 2\\n255 2\\n520 3\\n512 4\\n493 5\\n483 6\\n55 7\\n279 7\\n358 7\\n503 7\\n686 7\\n735 7\\n11 8\\n25 8\\n378 9\\n409 9\\n644 9\\n22 10\\n94 10\\n144 10\\n152 10\\n223 10\\n228 10\\n233 10\\n248 10\\n280 10\\n285 10\\n441 10\\n464 10\\n512 10\\n542 10\\n572 10\\n580 10\\n606 10\\n618 10\\n651 10\\n703 10\\n708 10\\n728 10\\n737 10\\n761 10\\n250 12\\n409 12\\n300 13\\n90 14\\n693 14\\n300 15\\n506 15\\n509 15\\n512 15\\n533 15\\n61 16\\n586 16\\n250 17\\n728 18\\n245 19\\n374 20\\n397 20\\n548 20\\n397 21\\n534 21\\n88 22\\n171 22\\n192 22\\n280 22\\n315 22\\n357 22\\n377 22\\n397 22\\n491 22\\n494 22\\n677 22\\n761 22\\n281 23\\n27 24\\n360 24\\n414 24\\n429 24\\n477 24\\n34 25\\n306 25\\n373 25\\n492 25\\n493 25\\n528 25\\n640 25\\n750 25\\n245 26\\n391 26\\n90 28\\n93 29\\n106 29\\n685 29\\n137 30\\n561 30\\n272 31\\n397 31\\n518 31\\n553 31\\n76 32\\n397 33\\n521 35\\n718 36\\n137 37\\n342 37\\n554 37\\n558 38\\n137 39\\n54 40\\n86 40\\n261 40\\n457 40\\n514 40\\n657 41\\n761 42\\n512 43\\n47 44\\n158 45\\n686 46\\n307 47\\n444 47\\n155 48\\n512 49\\n132 50\\n461 50\\n512 50\\n657 50\\n158 51\\n203 52\\n238 52\\n461 52\\n552 53\\n184 54\\n267 54\\n338 54\\n457 54\\n538 54\\n216 56\\n378 56\\n400 56\\n409 56\\n610 56\\n531 57\\n623 57\\n62 58\\n92 58\\n390 58\\n426 58\\n523 58\\n587 58\\n190 59\\n155 60\\n120 61\\n587 62\\n351 63\\n184 64\\n458 65\\n587 65\\n277 66\\n482 66\\n77 67\\n180 67\\n351 67\\n358 67\\n551 68\\n747 68\\n130 69\\n488 69\\n761 69\\n419 70\\n459 70\\n137 71\\n190 72\\n395 72\\n521 72\\n552 72\\n761 72\\n362 73\\n137 74\\n516 75\\n153 76\\n162 76\\n225 76\\n615 76\\n656 76\\n124 77\\n129 77\\n158 77\\n169 77\\n181 77\\n252 77\\n255 77\\n326 77\\n351 77\\n478 77\\n547 77\\n568 77\\n620 77\\n665 77\\n693 77\\n728 77\\n754 77\\n159 78\\n183 78\\n334 78\\n438 78\\n646 79\\n137 80\\n512 81\\n696 82\\n493 83\\n378 84\\n504 85\\n159 86\\n200 86\\n246 86\\n556 86\\n493 87\\n212 89\\n328 89\\n265 90\\n288 90\\n324 90\\n371 90\\n529 90\\n693 90\\n712 90\\n354 91\\n358 91\\n228 93\\n362 93\\n320 95\\n483 95\\n202 96\\n560 97\\n412 98\\n521 98\\n600 98\\n639 98\\n493 99\\n693 99\\n707 100\\n229 101\\n179 102\\n307 103\\n482 103\\n162 104\\n296 105\\n378 105\\n409 105\\n588 105\\n626 107\\n158 108\\n681 109\\n158 110\\n291 110\\n632 110\\n653 110\\n139 111\\n420 111\\n122 112\\n427 112\\n588 113\\n436 114\\n393 115\\n334 116\\n298 117\\n321 117\\n666 118\\n652 119\\n730 119\\n686 120\\n493 121\\n252 122\\n283 122\\n478 122\\n551 122\\n204 123\\n208 123\\n386 123\\n530 123\\n633 123\\n158 124\\n169 124\\n358 124\\n607 124\\n750 125\\n514 126\\n458 127\\n393 128\\n567 129\\n137 131\\n351 132\\n461 132\\n171 133\\n478 134\\n520 134\\n228 135\\n527 135\\n572 135\\n723 135\\n137 136\\n615 136\\n138 137\\n168 137\\n194 137\\n238 137\\n264 137\\n268 137\\n275 137\\n286 137\\n304 137\\n362 137\\n393 137\\n397 137\\n403 137\\n429 137\\n437 137\\n449 137\\n515 137\\n520 137\\n521 137\\n525 137\\n539 137\\n549 137\\n557 137\\n581 137\\n639 137\\n651 137\\n701 137\\n706 137\\n759 137\\n557 138\\n657 138\\n148 139\\n158 139\\n245 139\\n333 139\\n351 139\\n355 139\\n486 139\\n596 139\\n603 139\\n635 139\\n663 139\\n672 139\\n724 139\\n750 140\\n218 141\\n358 141\\n368 141\\n478 141\\n543 141\\n594 141\\n620 141\\n656 141\\n666 141\\n735 141\\n198 142\\n378 142\\n485 142\\n514 142\\n560 142\\n573 142\\n272 143\\n320 143\\n483 143\\n618 144\\n509 145\\n694 146\\n750 147\\n377 149\\n397 149\\n536 149\\n155 150\\n623 151\\n631 153\\n158 154\\n244 155\\n426 155\\n435 155\\n473 155\\n546 155\\n614 155\\n667 155\\n729 155\\n166 156\\n383 156\\n435 156\\n521 156\\n593 156\\n171 157\\n240 157\\n397 157\\n477 157\\n520 157\\n602 157\\n634 157\\n748 157\\n159 158\\n180 158\\n223 158\\n228 158\\n229 158\\n241 158\\n340 158\\n351 158\\n358 158\\n367 158\\n370 158\\n505 158\\n514 158\\n516 158\\n520 158\\n521 158\\n566 158\\n567 158\\n568 158\\n586 158\\n590 158\\n623 158\\n657 158\\n669 158\\n686 158\\n689 158\\n693 158\\n200 159\\n229 159\\n384 159\\n450 159\\n505 159\\n555 159\\n623 159\\n493 160\\n693 161\\n184 163\\n342 164\\n609 165\\n657 165\\n421 167\\n418 168\\n696 168\\n243 169\\n252 169\\n478 169\\n485 169\\n489 169\\n551 169\\n559 169\\n560 169\\n245 170\\n232 171\\n335 171\\n605 171\\n636 171\\n735 171\\n761 171\\n266 172\\n510 172\\n686 172\\n205 173\\n653 173\\n184 174\\n236 174\\n392 174\\n334 175\\n519 176\\n572 176\\n447 177\\n514 177\\n260 178\\n356 178\\n591 178\\n704 178\\n229 179\\n358 180\\n567 180\\n735 180\\n358 181\\n728 181\\n393 182\\n652 183\\n262 184\\n269 184\\n276 184\\n290 184\\n319 184\\n373 184\\n413 184\\n474 184\\n533 184\\n629 184\\n682 184\\n731 184\\n375 185\\n757 185\\n477 186\\n524 186\\n455 187\\n595 188\\n397 189\\n381 190\\n409 191\\n397 192\\n207 193\\n378 193\\n436 193\\n348 195\\n521 196\\n274 197\\n724 197\\n478 199\\n317 200\\n358 200\\n250 201\\n396 201\\n423 201\\n673 202\\n461 203\\n208 204\\n230 205\\n401 205\\n509 206\\n435 208\\n530 208\\n302 209\\n725 209\\n591 210\\n615 210\\n693 211\\n328 212\\n512 213\\n707 214\\n666 215\\n355 217\\n521 219\\n228 220\\n493 220\\n657 221\\n377 222\\n672 223\\n688 223\\n356 224\\n761 226\\n311 227\\n378 228\\n393 228\\n425 228\\n435 228\\n512 228\\n513 228\\n535 228\\n565 228\\n572 228\\n577 228\\n595 228\\n618 228\\n431 229\\n433 229\\n458 229\\n518 229\\n526 229\\n537 229\\n578 229\\n586 229\\n587 229\\n639 229\\n658 229\\n705 229\\n731 229\\n751 229\\n351 230\\n401 230\\n291 231\\n522 231\\n750 234\\n305 235\\n393 236\\n290 237\\n334 238\\n438 238\\n459 238\\n461 238\\n472 238\\n505 238\\n623 238\\n711 238\\n468 239\\n469 239\\n512 239\\n662 239\\n668 239\\n743 239\\n547 242\\n302 243\\n358 243\\n466 243\\n479 243\\n547 243\\n345 245\\n439 245\\n528 245\\n603 245\\n659 245\\n736 245\\n753 245\\n557 247\\n521 249\\n257 250\\n409 250\\n423 250\\n588 250\\n381 251\\n358 252\\n551 252\\n642 252\\n657 252\\n693 252\\n358 253\\n610 254\\n686 255\\n378 256\\n595 258\\n351 259\\n541 261\\n560 263\\n404 266\\n551 270\\n707 270\\n378 271\\n428 272\\n512 273\\n761 273\\n724 274\\n365 275\\n398 275\\n563 275\\n608 275\\n574 276\\n629 276\\n738 276\\n352 277\\n493 277\\n649 277\\n393 278\\n661 278\\n452 279\\n583 279\\n604 279\\n393 280\\n357 281\\n666 282\\n693 284\\n342 286\\n638 286\\n735 286\\n754 286\\n591 287\\n693 288\\n686 289\\n720 289\\n761 291\\n339 292\\n458 292\\n587 292\\n409 293\\n393 294\\n358 295\\n478 295\\n378 296\\n693 297\\n761 298\\n568 299\\n545 300\\n585 300\\n661 300\\n679 300\\n693 300\\n663 301\\n358 302\\n416 302\\n547 302\\n358 303\\n482 305\\n482 307\\n494 307\\n509 308\\n390 309\\n351 310\\n313 311\\n493 312\\n660 312\\n710 312\\n715 312\\n746 312\\n661 313\\n557 314\\n718 316\\n482 317\\n381 318\\n744 321\\n348 322\\n434 322\\n481 322\\n704 322\\n383 323\\n712 324\\n327 325\\n621 325\\n720 325\\n759 325\\n380 328\\n484 328\\n597 328\\n634 328\\n716 328\\n728 329\\n693 330\\n482 331\\n438 332\\n438 334\\n467 334\\n711 334\\n719 334\\n758 334\\n601 335\\n735 336\\n397 337\\n697 338\\n410 341\\n521 341\\n667 343\\n369 344\\n618 346\\n735 347\\n704 348\\n623 349\\n752 349\\n477 350\\n576 350\\n358 351\\n379 351\\n420 351\\n568 351\\n637 351\\n693 351\\n735 351\\n358 353\\n402 358\\n477 358\\n494 358\\n567 358\\n669 358\\n673 358\\n693 358\\n735 358\\n755 358\\n536 359\\n540 359\\n659 359\\n409 361\\n586 361\\n618 362\\n705 363\\n587 364\\n515 366\\n558 366\\n485 369\\n741 372\\n377 375\\n397 376\\n397 377\\n419 377\\n536 377\\n409 378\\n462 378\\n610 378\\n611 378\\n624 378\\n669 379\\n456 381\\n460 382\\n435 383\\n686 383\\n578 384\\n722 384\\n737 385\\n744 387\\n623 388\\n720 389\\n426 390\\n471 390\\n617 392\\n432 393\\n473 393\\n493 393\\n512 393\\n661 393\\n678 393\\n680 393\\n732 393\\n536 394\\n744 395\\n419 397\\n472 397\\n485 397\\n532 397\\n536 397\\n538 397\\n540 397\\n623 397\\n657 397\\n686 397\\n707 397\\n708 397\\n651 399\\n696 399\\n472 405\\n654 406\\n713 407\\n609 408\\n622 408\\n686 408\\n411 409\\n496 409\\n569 409\\n588 409\\n610 409\\n630 409\\n644 409\\n521 410\\n674 414\\n558 415\\n693 417\\n497 419\\n536 419\\n639 419\\n686 419\\n663 420\\n661 421\\n582 422\\n447 424\\n587 426\\n646 428\\n463 429\\n520 430\\n526 433\\n651 435\\n676 435\\n619 436\\n693 440\\n651 441\\n693 441\\n521 442\\n521 443\\n587 445\\n471 446\\n533 448\\n744 451\\n566 453\\n536 454\\n567 455\\n587 458\\n639 458\\n664 458\\n750 458\\n461 459\\n461 460\\n502 461\\n623 461\\n728 461\\n551 465\\n648 470\\n750 470\\n639 472\\n683 474\\n693 475\\n682 476\\n524 477\\n693 478\\n651 480\\n704 481\\n721 482\\n742 482\\n570 485\\n654 485\\n657 485\\n659 485\\n681 485\\n751 487\\n744 488\\n623 490\\n626 490\\n675 490\\n507 493\\n598 493\\n612 493\\n639 493\\n661 493\\n671 493\\n695 493\\n696 493\\n734 493\\n707 495\\n654 497\\n509 498\\n618 499\\n504 500\\n571 500\\n615 501\\n641 502\\n599 503\\n733 505\\n728 508\\n514 509\\n651 509\\n547 511\\n527 512\\n562 512\\n657 512\\n538 514\\n623 514\\n693 514\\n681 517\\n521 520\\n639 520\\n657 520\\n686 520\\n711 520\\n728 520\\n761 520\\n657 521\\n674 521\\n686 521\\n761 521\\n586 525\\n627 529\\n657 536\\n686 536\\n578 537\\n623 537\\n693 538\\n697 538\\n693 544\\n625 547\\n707 547\\n735 547\\n650 549\\n750 550\\n652 551\\n657 551\\n677 552\\n714 556\\n657 557\\n670 558\\n690 558\\n655 560\\n657 560\\n728 561\\n718 562\\n693 564\\n735 567\\n693 571\\n595 575\\n686 579\\n741 582\\n639 584\\n686 587\\n741 587\\n693 589\\n639 591\\n683 592\\n663 596\\n686 599\\n760 599\\n761 600\\n720 606\\n661 613\\n653 616\\n741 618\\n694 619\\n735 620\\n754 620\\n639 623\\n686 623\\n707 623\\n728 623\\n735 623\\n677 628\\n657 639\\n702 639\\n741 639\\n759 639\\n651 643\\n693 645\\n666 647\\n661 651\\n687 651\\n692 651\\n705 651\\n730 652\\n726 654\\n708 657\\n676 661\\n665 663\\n699 666\\n739 674\\n693 676\\n714 676\\n709 681\\n727 683\\n693 684\\n693 686\\n696 686\\n735 686\\n708 691\\n745 691\\n728 693\\n707 698\\n707 700\\n713 704\\n720 717\\n750 722\\n735 728\\n756 728\\n749 737\\n761 740'}"
            ]
          },
          "metadata": {},
          "execution_count": 31
        }
      ]
    },
    {
      "cell_type": "code",
      "metadata": {
        "colab": {
          "base_uri": "https://localhost:8080/"
        },
        "id": "QQCeo2vx-iwY",
        "outputId": "b98c8066-dfbb-4389-ed3a-5fd9c9532ab8"
      },
      "source": [
        "G=nx.read_edgelist('rt-twitter-copen.txt', delimiter=' ') \n",
        "print('Nodes:',G.number_of_nodes()) \n",
        "print('Edges:',G.number_of_edges())\n",
        "print('Density:',nx.density(G)) \n",
        "print('Selfloops:',nx.number_of_selfloops(G)) "
      ],
      "execution_count": null,
      "outputs": [
        {
          "output_type": "stream",
          "name": "stdout",
          "text": [
            "Nodes: 761\n",
            "Edges: 1029\n",
            "Density: 0.003558337367729442\n",
            "Selfloops: 0\n"
          ]
        }
      ]
    },
    {
      "cell_type": "markdown",
      "metadata": {
        "id": "lmqLhVFNHEhP"
      },
      "source": [
        "1.1 (2 балла) Постройте распределение коэффициента кластеризации, какие значения он преимущественно принимает? Сколько вершин имеют нулевую кластеризацию, сколько единичную?"
      ]
    },
    {
      "cell_type": "code",
      "metadata": {
        "colab": {
          "base_uri": "https://localhost:8080/",
          "height": 435
        },
        "id": "0HJ1yYvSHD7x",
        "outputId": "98d506c3-15d2-4d8d-c060-06553800d29d"
      },
      "source": [
        "lcc = nx.clustering(G)\n",
        "plt.hist(lcc.values(),log=True, bins = 40)"
      ],
      "execution_count": null,
      "outputs": [
        {
          "output_type": "execute_result",
          "data": {
            "text/plain": [
              "(array([613.,  18.,  13.,  10.,  11.,   5.,  10.,   0.,   7.,   1.,   0.,\n",
              "          3.,   0.,  26.,   0.,   0.,   0.,   0.,   0.,   0.,   4.,   0.,\n",
              "          0.,   1.,   0.,   0.,   3.,   0.,   0.,   0.,   0.,   0.,   0.,\n",
              "          0.,   0.,   0.,   0.,   0.,   0.,  36.]),\n",
              " array([0.   , 0.025, 0.05 , 0.075, 0.1  , 0.125, 0.15 , 0.175, 0.2  ,\n",
              "        0.225, 0.25 , 0.275, 0.3  , 0.325, 0.35 , 0.375, 0.4  , 0.425,\n",
              "        0.45 , 0.475, 0.5  , 0.525, 0.55 , 0.575, 0.6  , 0.625, 0.65 ,\n",
              "        0.675, 0.7  , 0.725, 0.75 , 0.775, 0.8  , 0.825, 0.85 , 0.875,\n",
              "        0.9  , 0.925, 0.95 , 0.975, 1.   ]),\n",
              " <a list of 40 Patch objects>)"
            ]
          },
          "metadata": {},
          "execution_count": 33
        },
        {
          "output_type": "display_data",
          "data": {
            "image/png": "[encoded data removed]",
            "text/plain": [
              "<Figure size 432x288 with 1 Axes>"
            ]
          },
          "metadata": {
            "needs_background": "light"
          }
        }
      ]
    },
    {
      "cell_type": "markdown",
      "metadata": {
        "id": "vhQ3007HLS6n"
      },
      "source": [
        "Наиболее часто встречается нулевая кластеризация "
      ]
    },
    {
      "cell_type": "code",
      "metadata": {
        "colab": {
          "base_uri": "https://localhost:8080/"
        },
        "id": "soM8nE9GKEd2",
        "outputId": "0aa25f3f-739e-4704-bedc-fac354207f0e"
      },
      "source": [
        "o = 0\n",
        "z = 0\n",
        "for i in lcc.values():\n",
        "  if(i == 1):\n",
        "    o += 1\n",
        "  if(i == 0):\n",
        "    z += 1\n",
        "print(\"Нулевая кластеризация =\",z,\", единичная кластеризация =\", o)    "
      ],
      "execution_count": null,
      "outputs": [
        {
          "output_type": "stream",
          "name": "stdout",
          "text": [
            "Нулевая кластеризация = 607 , единичная кластеризация = 36\n"
          ]
        }
      ]
    },
    {
      "cell_type": "markdown",
      "metadata": {
        "id": "sPwhvEtqLvis"
      },
      "source": [
        "1.2 (1 балл) Вычислите коэффициент корреляции Пирсона степени и коэффициента кластеризации вершин;"
      ]
    },
    {
      "cell_type": "code",
      "metadata": {
        "colab": {
          "base_uri": "https://localhost:8080/"
        },
        "id": "KHLjEh5KLyDY",
        "outputId": "bd0a42cd-46b6-4797-e78e-6f8ac984cac0"
      },
      "source": [
        "gdict = dict(G.degree())\n",
        "\n",
        "degrees2 = []\n",
        "for word in gdict.keys():\n",
        "    degrees2.append(gdict[word])\n",
        "\n",
        "print(degrees2)"
      ],
      "execution_count": null,
      "outputs": [
        {
          "output_type": "stream",
          "name": "stdout",
          "text": [
            "[12, 2, 16, 3, 2, 3, 13, 1, 1, 20, 1, 3, 1, 1, 6, 4, 26, 2, 21, 15, 1, 2, 9, 15, 3, 16, 2, 13, 24, 1, 2, 1, 4, 17, 1, 1, 3, 1, 3, 1, 1, 4, 1, 2, 7, 12, 1, 4, 13, 3, 14, 7, 2, 7, 1, 9, 2, 31, 5, 1, 7, 3, 2, 2, 5, 1, 1, 1, 1, 3, 25, 1, 2, 1, 1, 9, 2, 1, 2, 7, 1, 3, 3, 2, 1, 1, 5, 1, 2, 3, 6, 1, 1, 2, 1, 2, 1, 9, 2, 1, 1, 3, 3, 1, 1, 37, 2, 2, 3, 4, 2, 1, 6, 1, 1, 18, 1, 3, 1, 3, 3, 1, 5, 1, 1, 6, 5, 5, 2, 2, 9, 18, 1, 1, 1, 3, 1, 35, 1, 1, 4, 1, 11, 1, 1, 3, 4, 10, 1, 2, 3, 10, 3, 1, 16, 1, 2, 5, 1, 5, 1, 4, 1, 2, 17, 2, 6, 1, 4, 4, 1, 11, 3, 1, 1, 2, 16, 1, 1, 8, 2, 4, 2, 8, 18, 4, 5, 8, 2, 1, 1, 3, 2, 7, 2, 3, 1, 5, 2, 4, 1, 1, 2, 1, 2, 2, 1, 4, 2, 5, 2, 10, 3, 8, 1, 8, 8, 4, 4, 2, 3, 10, 4, 2, 9, 4, 2, 1, 1, 1, 5, 1, 1, 1, 2, 1, 4, 1, 2, 1, 2, 2, 7, 1, 2, 2, 1, 2, 2, 1, 2, 2, 2, 2, 1, 6, 1, 1, 4, 2, 15, 2, 9, 1, 18, 1, 2, 1, 2, 1, 2, 4, 4, 2, 1, 1, 4, 1, 4, 3, 1, 3, 14, 2, 3, 5, 2, 1, 1, 3, 1, 17, 1, 1, 2, 2, 2, 6, 1, 4, 2, 2, 1, 1, 2, 5, 4, 1, 2, 1, 1, 1, 1, 1, 1, 6, 1, 1, 2, 4, 2, 1, 2, 3, 3, 1, 1, 1, 5, 5, 1, 1, 1, 1, 2, 2, 1, 2, 5, 1, 1, 1, 3, 1, 1, 2, 1, 2, 2, 1, 5, 2, 3, 1, 1, 10, 1, 1, 1, 1, 6, 9, 1, 3, 1, 2, 1, 1, 3, 9, 1, 1, 1, 1, 1, 7, 2, 1, 1, 2, 1, 1, 5, 4, 1, 8, 1, 1, 2, 1, 1, 1, 1, 1, 4, 2, 1, 3, 1, 3, 1, 1, 1, 1, 1, 1, 2, 2, 2, 1, 1, 6, 1, 1, 1, 1, 2, 1, 1, 2, 3, 1, 3, 2, 3, 2, 2, 1, 1, 2, 2, 2, 1, 4, 2, 4, 5, 1, 1, 1, 4, 2, 1, 1, 2, 2, 2, 2, 2, 2, 1, 2, 2, 2, 1, 4, 1, 1, 4, 1, 1, 3, 3, 1, 1, 2, 2, 1, 2, 3, 1, 2, 2, 3, 2, 1, 5, 1, 2, 1, 1, 1, 1, 1, 1, 2, 1, 1, 1, 1, 1, 2, 1, 1, 1, 1, 1, 1, 1, 2, 2, 3, 3, 1, 3, 2, 2, 1, 1, 2, 1, 1, 4, 3, 1, 6, 1, 1, 1, 1, 1, 1, 1, 1, 1, 3, 1, 1, 1, 1, 1, 1, 1, 1, 1, 1, 1, 1, 1, 1, 1, 2, 1, 2, 2, 1, 1, 1, 1, 1, 1, 1, 1, 2, 9, 1, 1, 1, 1, 1, 1, 1, 2, 5, 1, 3, 1, 1, 2, 1, 1, 1, 1, 1, 1, 1, 1, 1, 1, 1, 2, 5, 1, 1, 1, 1, 1, 1, 1, 5, 4, 1, 2, 1, 1, 4, 1, 1, 1, 1, 1, 1, 1, 1, 1, 1, 1, 1, 1, 1, 1, 2, 2, 2, 1, 2, 1, 1, 1, 2, 1, 2, 1, 2, 1, 1, 1, 1, 3, 2, 2, 1, 1, 2, 5, 1, 1, 1, 1, 1, 1, 2, 1, 2, 1, 1, 1, 1, 2, 1, 1, 1, 1, 1, 1, 1, 2, 1, 4, 1, 2, 1, 3, 1, 1, 1, 1, 1, 3, 1, 1, 2, 2, 1, 1, 1, 1, 4, 2, 1, 1, 1, 1, 1, 1, 1, 1, 1, 1, 2, 1, 1, 2, 3, 1, 1, 1, 1, 1, 1, 1, 3, 1, 1, 1, 1, 1, 1, 1, 1, 1, 1, 2, 2, 1, 1, 3, 1, 1, 1, 2, 1, 1, 1, 1, 1, 1, 2, 1, 1, 1, 1, 1, 1, 1, 1, 1, 1, 1, 1, 1, 1, 1, 1, 1, 1, 1, 1, 1, 1, 1, 1, 1, 2, 1, 1, 1, 1, 1, 1, 1]\n"
          ]
        }
      ]
    },
    {
      "cell_type": "code",
      "metadata": {
        "id": "YruB7nhXN6vd"
      },
      "source": [
        "lcc2 = []\n",
        "for word in lcc.keys():\n",
        "    lcc2.append(lcc[word])\n",
        "X = lcc2\n",
        "Y = degrees2"
      ],
      "execution_count": null,
      "outputs": []
    },
    {
      "cell_type": "code",
      "metadata": {
        "colab": {
          "base_uri": "https://localhost:8080/"
        },
        "id": "LEcpuABaN68S",
        "outputId": "61314774-8a54-44a2-e0de-172753cbaa55"
      },
      "source": [
        "kP = np.corrcoef(X, Y)\n",
        "print(\"Коэффициент корреляции Пирсона равен\",kP[0,1])"
      ],
      "execution_count": null,
      "outputs": [
        {
          "output_type": "stream",
          "name": "stdout",
          "text": [
            "Коэффициент корреляции Пирсона равен 0.04724757219020865\n"
          ]
        }
      ]
    },
    {
      "cell_type": "markdown",
      "metadata": {
        "id": "Vlvl5SEmPA1K"
      },
      "source": [
        "Коэффициент корреляции Пирсона между степенью и коэффициентом кластеризации вершин мал, корреляция не наблюдается"
      ]
    },
    {
      "cell_type": "markdown",
      "metadata": {
        "id": "RdyevBUWPmCQ"
      },
      "source": [
        "1.3 (2 балла) Определите число компонет связности и постройте распределение размера компонент связности (удалите из массива максимальную компоненту для наглядности;"
      ]
    },
    {
      "cell_type": "code",
      "metadata": {
        "colab": {
          "base_uri": "https://localhost:8080/"
        },
        "id": "TqbydYMkQU-o",
        "outputId": "7d208508-c72c-4c4e-86f7-13399233694b"
      },
      "source": [
        "SCC = [len(c) for c in sorted(nx.connected_components(G), key=len, reverse=True)]\n",
        "len(SCC)"
      ],
      "execution_count": null,
      "outputs": [
        {
          "output_type": "execute_result",
          "data": {
            "text/plain": [
              "1"
            ]
          },
          "metadata": {},
          "execution_count": 38
        }
      ]
    },
    {
      "cell_type": "code",
      "metadata": {
        "colab": {
          "base_uri": "https://localhost:8080/"
        },
        "id": "dt3c1IVEQVME",
        "outputId": "b5f4792a-a5c7-473b-e78b-cb2a9963c3eb"
      },
      "source": [
        "LCG_nodes=max(nx.connected_components(G), key=len) # максимальная компонента\n",
        "LCG=G.subgraph(LCG_nodes) # создаем подграф на списке вершин максимальной компоненты\n",
        "print(len(LCG)/len(G))\n",
        "print(len(LCG))"
      ],
      "execution_count": null,
      "outputs": [
        {
          "output_type": "stream",
          "name": "stdout",
          "text": [
            "1.0\n",
            "761\n"
          ]
        }
      ]
    },
    {
      "cell_type": "markdown",
      "metadata": {
        "id": "CcBREzXhTktl"
      },
      "source": [
        "Граф является связным, количество компонент связности 1, размер макс. компоненты равен количеству вершин графа."
      ]
    },
    {
      "cell_type": "markdown",
      "metadata": {
        "id": "ppMUYlx_T4i0"
      },
      "source": [
        "1.4 (2 балла) Исследуйте локальную эффективность максимальной компоненты на устойчивость."
      ]
    },
    {
      "cell_type": "code",
      "metadata": {
        "id": "0rMsaIHtT31m"
      },
      "source": [
        "epsilon=0.05 # доля удаляемых ребер за один шаг\n",
        "n=int(epsilon*G.number_of_edges()) \n",
        "H=G.copy()\n",
        "tr=[]\n",
        "tr.append(nx.local_efficiency(H))\n",
        "for i in range(10):\n",
        "  edges_removed=[list(H.edges)[k] for k in np.random.choice(H.number_of_edges(),n, replace=False)]\n",
        "  H.remove_edges_from(edges_removed)\n",
        "  tr.append(nx.transitivity(H))"
      ],
      "execution_count": null,
      "outputs": []
    },
    {
      "cell_type": "code",
      "metadata": {
        "colab": {
          "base_uri": "https://localhost:8080/",
          "height": 296
        },
        "id": "wWKH_DG-UP9p",
        "outputId": "56befe04-991f-410f-989a-49479e9cf8f3"
      },
      "source": [
        "plt.plot(np.linspace(0,10*epsilon,11),tr,'o--')\n",
        "plt.xlabel('fraction of removed links')\n",
        "plt.ylabel('local efficiency')"
      ],
      "execution_count": null,
      "outputs": [
        {
          "output_type": "execute_result",
          "data": {
            "text/plain": [
              "Text(0, 0.5, 'local efficiency')"
            ]
          },
          "metadata": {},
          "execution_count": 51
        },
        {
          "output_type": "display_data",
          "data": {
            "image/png": "[encoded data removed]",
            "text/plain": [
              "<Figure size 432x288 with 1 Axes>"
            ]
          },
          "metadata": {
            "needs_background": "light"
          }
        }
      ]
    },
    {
      "cell_type": "markdown",
      "metadata": {
        "id": "55BuWG5CUcSI"
      },
      "source": [
        "2.1 (3 балла) Для выбранной сети постройте распределение степеней, определите, подчиняется ли распределение степенному закону, оцените параметры распределения."
      ]
    },
    {
      "cell_type": "code",
      "metadata": {
        "colab": {
          "base_uri": "https://localhost:8080/",
          "height": 648
        },
        "id": "mMUy-5AwUhPY",
        "outputId": "97ccadc4-36eb-4ff3-cc14-9c14594375fe"
      },
      "source": [
        "degrees=[d for node, d in G.degree()]\n",
        "\n",
        "fig, ax = plt.subplots(figsize = (16,10))\n",
        "\n",
        "fit = powerlaw.Fit(degrees, discrete=True)\n",
        "fit.plot_ccdf(ax=ax, linewidth=3, label='Empirical Data')\n",
        "fit.lognormal.plot_ccdf(ax=ax, color='r', linestyle='--', label='Lognormal fit')\n",
        "fit.truncated_power_law.plot_ccdf(ax=ax, color='g', linestyle='--', label='Truncated power law fit')\n",
        "fit.power_law.plot_ccdf(ax=ax, color='k', linestyle='--', label='Power law fit')\n",
        "\n",
        "ax.set_ylabel(u\"P(K≥k)\",fontsize=16)\n",
        "ax.set_xlabel(\"k\",fontsize=16)\n",
        "handles, labels = ax.get_legend_handles_labels()\n",
        "ax.legend(handles, labels, loc=3,fontsize=14)"
      ],
      "execution_count": null,
      "outputs": [
        {
          "output_type": "stream",
          "name": "stdout",
          "text": [
            "Calculating best minimal value for power law fit\n",
            "xmin progress: 00%\rxmin progress: 04%\rxmin progress: 08%\rxmin progress: 12%\rxmin progress: 16%\rxmin progress: 20%\rxmin progress: 24%\rxmin progress: 28%\rxmin progress: 32%\rxmin progress: 36%\rxmin progress: 40%\rxmin progress: 44%\rxmin progress: 48%\rxmin progress: 52%\rxmin progress: 56%\rxmin progress: 60%\rxmin progress: 64%\rxmin progress: 68%\rxmin progress: 72%\rxmin progress: 76%\rxmin progress: 80%\rxmin progress: 84%\rxmin progress: 88%\rxmin progress: 92%\rxmin progress: 96%\r"
          ]
        },
        {
          "output_type": "execute_result",
          "data": {
            "text/plain": [
              "<matplotlib.legend.Legend at 0x7fc1ac25b7d0>"
            ]
          },
          "metadata": {},
          "execution_count": 49
        },
        {
          "output_type": "display_data",
          "data": {
            "image/png": "[encoded data removed]",
            "text/plain": [
              "<Figure size 1152x720 with 1 Axes>"
            ]
          },
          "metadata": {
            "needs_background": "light"
          }
        }
      ]
    },
    {
      "cell_type": "code",
      "metadata": {
        "colab": {
          "base_uri": "https://localhost:8080/"
        },
        "id": "ZxIUx8LvV4uU",
        "outputId": "ca1b4dbf-e97b-4a37-a3f6-f7b77bb73696"
      },
      "source": [
        "print(\"Коэффициент в power law alpha = %f\" %(fit.power_law.alpha))\n",
        "print(\"Коэффициент в truncated power law alpha = %f, lambda = %f\" %(fit.truncated_power_law.alpha, fit.truncated_power_law.parameter2))\n",
        "print(\"Коэффициент в lognormal mu = %f, sigma = %f\" %(fit.lognormal.mu, fit.lognormal.sigma))"
      ],
      "execution_count": null,
      "outputs": [
        {
          "output_type": "stream",
          "name": "stdout",
          "text": [
            "Коэффициент в power law alpha = 2.178497\n",
            "Коэффициент в truncated power law alpha = 1.890273, lambda = 0.040914\n",
            "Коэффициент в lognormal mu = -1.605450, sigma = 1.680027\n"
          ]
        }
      ]
    },
    {
      "cell_type": "markdown",
      "metadata": {
        "id": "E5imrWD5WL0i"
      },
      "source": [
        "По форме графика ближе всего truncated power law, но вначале power law fit точнее описывает"
      ]
    },
    {
      "cell_type": "markdown",
      "metadata": {
        "id": "wQIKGzK4Wtzd"
      },
      "source": [
        "2.2 (1 балл) Определите коэффициент ассортативности сети."
      ]
    },
    {
      "cell_type": "code",
      "metadata": {
        "colab": {
          "base_uri": "https://localhost:8080/"
        },
        "id": "isuBgeoTXYLB",
        "outputId": "6d462c97-e7ae-48f3-fb67-255f40efb257"
      },
      "source": [
        "print(\"Коэффициент ассортативности сети равен\", nx.degree_assortativity_coefficient(G))"
      ],
      "execution_count": null,
      "outputs": [
        {
          "output_type": "stream",
          "name": "stdout",
          "text": [
            "Коэффициент ассортативности сети равен -0.09922311792436744\n"
          ]
        }
      ]
    },
    {
      "cell_type": "markdown",
      "metadata": {
        "id": "-AHV2f8FXyyN"
      },
      "source": [
        "2.3 (2 балла) Постройте функцию корреляции степеней. Для этого для каждого значения степени  k  определите среднее значение средней степени ближайших соседей вершин :)."
      ]
    },
    {
      "cell_type": "code",
      "metadata": {
        "id": "z5j4_-YjX0Iq"
      },
      "source": [
        "nn_degrees=nx.average_neighbor_degree(G)\n",
        "nei=[(node,val) for (node, val) in G.degree()]\n",
        "nei=sorted(nei, key=lambda x: x[1]) \n",
        "dict_nn_deg = {}\n",
        "for node, d in nei:\n",
        "    if d in dict_nn_deg.keys():\n",
        "      dict_nn_deg[d] += nn_degrees[node]\n",
        "    else:\n",
        "      dict_nn_deg[d] = nn_degrees[node]\n",
        "      \n",
        "for k in dict_nn_deg.keys():\n",
        "  dict_nn_deg[k] /= len(list(filter(lambda x: x==k, degrees)))"
      ],
      "execution_count": null,
      "outputs": []
    },
    {
      "cell_type": "code",
      "metadata": {
        "colab": {
          "base_uri": "https://localhost:8080/",
          "height": 283
        },
        "id": "6HtCef5nZmhf",
        "outputId": "44980e39-1b79-43dc-b859-9c4d7213abec"
      },
      "source": [
        "plt.plot(list(dict_nn_deg.keys()), list(dict_nn_deg.values()));\n",
        "plt.xlabel('k', fontsize=14)\n",
        "plt.ylabel('average degree', fontsize=14);"
      ],
      "execution_count": null,
      "outputs": [
        {
          "output_type": "display_data",
          "data": {
            "image/png": "[encoded data removed]",
            "text/plain": [
              "<Figure size 432x288 with 1 Axes>"
            ]
          },
          "metadata": {
            "needs_background": "light"
          }
        }
      ]
    },
    {
      "cell_type": "markdown",
      "metadata": {
        "id": "WhVo-0SnsjVM"
      },
      "source": [
        "2.4 (1 балл) Постройте зависимость коэффициента Rich Club от k."
      ]
    },
    {
      "cell_type": "code",
      "metadata": {
        "colab": {
          "base_uri": "https://localhost:8080/",
          "height": 265
        },
        "id": "T6UDXxm7ssVF",
        "outputId": "eaf5c5bf-488d-4054-fb15-09c72705a857"
      },
      "source": [
        "rich_club=nx.rich_club_coefficient(G, normalized=False)\n",
        "plt.plot(list(rich_club.keys()), list(rich_club.values()));"
      ],
      "execution_count": null,
      "outputs": [
        {
          "output_type": "display_data",
          "data": {
            "image/png": "[encoded data removed]",
            "text/plain": [
              "<Figure size 432x288 with 1 Axes>"
            ]
          },
          "metadata": {
            "needs_background": "light"
          }
        }
      ]
    },
    {
      "cell_type": "markdown",
      "metadata": {
        "id": "S0mlGH9uwCEx"
      },
      "source": [
        "2.5 (2 балла) Напишите функцию разложения сети по k-core, постройте соответвующее разложение."
      ]
    },
    {
      "cell_type": "code",
      "metadata": {
        "colab": {
          "base_uri": "https://localhost:8080/",
          "height": 283
        },
        "id": "seT8psffwGcv",
        "outputId": "eee61d78-3389-45ac-f535-dc0112fd433d"
      },
      "source": [
        "nodes=G.number_of_nodes()\n",
        "kcore=[]\n",
        "for n in np.unique(degrees):\n",
        "  kcore.append(len(nx.k_core(G,k=n))/nodes)\n",
        "plt.plot(np.unique(degrees),kcore)\n",
        "plt.xlabel('k', fontsize=14)\n",
        "plt.ylabel('core', fontsize=14);  "
      ],
      "execution_count": null,
      "outputs": [
        {
          "output_type": "display_data",
          "data": {
            "image/png": "[encoded data removed]",
            "text/plain": [
              "<Figure size 432x288 with 1 Axes>"
            ]
          },
          "metadata": {
            "needs_background": "light"
          }
        }
      ]
    },
    {
      "cell_type": "markdown",
      "metadata": {
        "id": "cleOXnQ0x03S"
      },
      "source": [
        "3.1 (2 балла) Для произвольной (неслучайной) сети подберите параметры моделей Эрдеша-Реньи, Барабаши-Альберта. Постройте соответсвующие случайные сети и определите какая из моделей лучше описывает тут или иную характеристику сети."
      ]
    },
    {
      "cell_type": "code",
      "metadata": {
        "colab": {
          "base_uri": "https://localhost:8080/"
        },
        "id": "0iPGTo8w4f0s",
        "outputId": "c4bbdf2c-ee47-4911-ef62-41c0ea86c020"
      },
      "source": [
        "print('Nodes:',G.number_of_nodes()) \n",
        "print('Edges:',G.number_of_edges())\n",
        "print('Average degree:', np.mean(degrees))\n",
        "print('Average clustering:',nx.average_clustering(G))\n",
        "print(nx.diameter(G))"
      ],
      "execution_count": null,
      "outputs": [
        {
          "output_type": "stream",
          "name": "stdout",
          "text": [
            "Nodes: 761\n",
            "Edges: 1029\n",
            "Average degree: 1.997371879106439\n",
            "Average clustering: 0.07588001028319721\n",
            "14\n"
          ]
        }
      ]
    },
    {
      "cell_type": "markdown",
      "metadata": {
        "id": "Wr9XVqJqHMAQ"
      },
      "source": [
        "Модель Эрдеша-Реньи"
      ]
    },
    {
      "cell_type": "code",
      "metadata": {
        "colab": {
          "base_uri": "https://localhost:8080/"
        },
        "id": "NiCUlFeiGza6",
        "outputId": "661bd1af-5d78-4e09-c3e2-0b8359ba13dd"
      },
      "source": [
        "er = nx.erdos_renyi_graph(761, 0.00355)\n",
        "\n",
        "print ('Number of edges =',er.number_of_edges())\n",
        "degrees=[d for node, d in er.degree()]\n",
        "print ('Average degree =',np.mean(degrees))"
      ],
      "execution_count": null,
      "outputs": [
        {
          "output_type": "stream",
          "name": "stdout",
          "text": [
            "Number of edges = 1040\n",
            "Average degree = 2.733245729303548\n"
          ]
        }
      ]
    },
    {
      "cell_type": "code",
      "metadata": {
        "colab": {
          "base_uri": "https://localhost:8080/",
          "height": 301
        },
        "id": "y4RP9KpCIokq",
        "outputId": "0e937abb-9d5d-4bf1-e725-1faa8e58c0df"
      },
      "source": [
        "h,x=np.histogram(degrees,bins=20,density=True) \n",
        "\n",
        "x_=(x[:-1]+x[1:])/2\n",
        "plt.plot(x_,h,'o--')\n",
        "plt.xlabel(r'$ k$', fontsize=14)\n",
        "plt.ylabel(r'$\\rho(k)$', fontsize=14)"
      ],
      "execution_count": null,
      "outputs": [
        {
          "output_type": "execute_result",
          "data": {
            "text/plain": [
              "Text(0, 0.5, '$\\\\rho(k)$')"
            ]
          },
          "metadata": {},
          "execution_count": 191
        },
        {
          "output_type": "display_data",
          "data": {
            "image/png": "[encoded data removed]",
            "text/plain": [
              "<Figure size 432x288 with 1 Axes>"
            ]
          },
          "metadata": {
            "needs_background": "light"
          }
        }
      ]
    },
    {
      "cell_type": "code",
      "metadata": {
        "colab": {
          "base_uri": "https://localhost:8080/"
        },
        "id": "w_Y3KE-tK1oE",
        "outputId": "dea93efc-9d71-4b60-9e24-edb23a8a1c70"
      },
      "source": [
        "#print(nx.diameter(er))\n",
        "print(\"Found infinite path length because the graph is not connected\")\n",
        "print(nx.average_clustering(er))"
      ],
      "execution_count": null,
      "outputs": [
        {
          "output_type": "stream",
          "name": "stdout",
          "text": [
            "Found infinite path length because the graph is not connected\n",
            "0.002990008968984002\n"
          ]
        }
      ]
    },
    {
      "cell_type": "markdown",
      "metadata": {
        "id": "fNhKWLYpJbRK"
      },
      "source": [
        "Модель Барабаши-Альберт\n"
      ]
    },
    {
      "cell_type": "code",
      "metadata": {
        "colab": {
          "base_uri": "https://localhost:8080/"
        },
        "id": "XR46z5nfJhZI",
        "outputId": "a863e8f9-f012-4600-e35e-2505f66f3cd2"
      },
      "source": [
        "ba=nx.barabasi_albert_graph(761, 1)\n",
        "\n",
        "print ('Number of edges =',ba.number_of_edges())\n",
        "degrees=[d for node, d in ba.degree()]\n",
        "print ('Average degree =',np.mean(degrees))\n"
      ],
      "execution_count": null,
      "outputs": [
        {
          "output_type": "stream",
          "name": "stdout",
          "text": [
            "Number of edges = 760\n",
            "Average degree = 1.997371879106439\n"
          ]
        }
      ]
    },
    {
      "cell_type": "code",
      "metadata": {
        "colab": {
          "base_uri": "https://localhost:8080/",
          "height": 304
        },
        "id": "gkdKk8y1NDj1",
        "outputId": "840f1bde-5617-4be5-bd4f-a23d8dadc2ee"
      },
      "source": [
        "h,x=np.histogram(degrees,bins=100,density=True) \n",
        "\n",
        "x_=(x[:-1]+x[1:])/2 \n",
        "\n",
        "dx=x_[1]-x_[0]\n",
        "ccdf=1-(np.cumsum(h[:-1])*dx)\n",
        "plt.plot(x_[:-1],ccdf,'o--')\n",
        "plt.xscale('log')\n",
        "plt.yscale('log')\n",
        "plt.xlabel('k', fontsize=14)\n",
        "plt.ylabel(r'$\\rho(k)$', fontsize=14)"
      ],
      "execution_count": null,
      "outputs": [
        {
          "output_type": "execute_result",
          "data": {
            "text/plain": [
              "Text(0, 0.5, '$\\\\rho(k)$')"
            ]
          },
          "metadata": {},
          "execution_count": 195
        },
        {
          "output_type": "display_data",
          "data": {
            "image/png": "[encoded data removed]",
            "text/plain": [
              "<Figure size 432x288 with 1 Axes>"
            ]
          },
          "metadata": {
            "needs_background": "light"
          }
        }
      ]
    },
    {
      "cell_type": "code",
      "metadata": {
        "colab": {
          "base_uri": "https://localhost:8080/"
        },
        "id": "FkVK_CDuNH6L",
        "outputId": "44fe91e6-7ff1-444d-9f5f-65d18ffb0374"
      },
      "source": [
        "print(nx.diameter(ba))\n",
        "print(nx.average_clustering(ba))"
      ],
      "execution_count": null,
      "outputs": [
        {
          "output_type": "stream",
          "name": "stdout",
          "text": [
            "15\n",
            "0.0\n"
          ]
        }
      ]
    },
    {
      "cell_type": "markdown",
      "metadata": {
        "id": "8BtAERRly39K"
      },
      "source": [
        "Модель Барабаши-Альберт лучше описывает average degree и diameter(в модели Эрдеша-Реньи не считается).\n",
        "Модель Эрдеша-Реньи точнее по average clustering и параметрам(вершины+ребра) сети"
      ]
    },
    {
      "cell_type": "markdown",
      "metadata": {
        "id": "OS9LXv2m5UcW"
      },
      "source": [
        "3.2 (2 балла) Постройте конфигурационную модель для выбранной сети, лучше ли эта модель справляется с описанием свойств? Определите сколько в смоделированной сети петель, мультиребер."
      ]
    },
    {
      "cell_type": "code",
      "metadata": {
        "colab": {
          "base_uri": "https://localhost:8080/"
        },
        "id": "UnPF8lwaeNw_",
        "outputId": "11c064a1-fa2d-42a4-ea0d-269151b55999"
      },
      "source": [
        "degrees=[d for node, d in G.degree()]\n",
        "\n",
        "GC=nx.configuration_model(degrees,seed=10)\n",
        "print('Nodes:',GC.number_of_nodes()) \n",
        "print('Edges:',GC.number_of_edges())\n",
        "print('Density:',nx.density(GC)) \n",
        "degreesC=[d for node, d in GC.degree()]\n",
        "print('Average degree:', np.mean(degrees))\n",
        "print('Selfloops:',nx.number_of_selfloops(GC)) \n",
        "k=0\n",
        "L=list(GC.edges())\n",
        "for i in range(0,len(L)):\n",
        "  for j in range(i+1,len(L)):\n",
        "    if(L[i]==L[j]):\n",
        "      k+=1     \n",
        "print('Multiedges:', k,'\\n')\n",
        "#print(nx.diameter(GC)) "
      ],
      "execution_count": null,
      "outputs": [
        {
          "output_type": "stream",
          "name": "stdout",
          "text": [
            "Nodes: 761\n",
            "Edges: 1029\n",
            "Density: 0.003558337367729442\n",
            "Average degree: 2.704336399474376\n",
            "Selfloops: 1\n",
            "Multiedges: 8 \n",
            "\n"
          ]
        }
      ]
    },
    {
      "cell_type": "markdown",
      "metadata": {
        "id": "iCTrMyzNzLz_"
      },
      "source": [
        "Модель точно описывает все параметры, кроме average degree. Содержит 8 мультиребер и 1 петлю"
      ]
    },
    {
      "cell_type": "markdown",
      "metadata": {
        "id": "PIruzbQKbQw0"
      },
      "source": [
        "3.3 (2 балла) Напишите функцию, осуществляющую заданное число шагов  Q  рандомизации. Лучше задавать множителем  f  от числа ребер в системе, т.е.  f=Q/L ."
      ]
    },
    {
      "cell_type": "code",
      "metadata": {
        "id": "4nGqm14jbVq2"
      },
      "source": [
        "def rand_maslov_sn(G, f):\n",
        "  L=list(G.edges())\n",
        "  for l in range(0, 1029*f):\n",
        "    i,j = np.random.choice(len(L), 2, replace=False)\n",
        "    (A,B)=L[i]\n",
        "    (C,D)=L[j]\n",
        "    if((G.has_edge(A,D)== False) and  (G.has_edge(B,C)== False) and (A!=D) and (B!=C)):\n",
        "      G.remove_edge(A,B)\n",
        "      G.remove_edge(C,D)\n",
        "      G.add_edge(A,D)\n",
        "      G.add_edge(B,C)\n",
        "      L[i]=(A,D)\n",
        "      L[j]=(B,C)\n",
        "  return G"
      ],
      "execution_count": null,
      "outputs": []
    },
    {
      "cell_type": "markdown",
      "metadata": {
        "id": "mY7y6fwakRpX"
      },
      "source": [
        "3.4 (2 балла) Для произвольной (неслучайной) сети постройте зависимость сетевых характеристик от числа рандомизиции  f ."
      ]
    },
    {
      "cell_type": "code",
      "metadata": {
        "colab": {
          "base_uri": "https://localhost:8080/"
        },
        "id": "_XlM_NTrkHoy",
        "outputId": "6a079ecd-c611-4271-9897-ffc1c070ed44"
      },
      "source": [
        "G=nx.read_edgelist('rt-twitter-copen.txt', delimiter=' ') \n",
        "\n",
        "print('Nodes:',G.number_of_nodes()) \n",
        "print('Edges:',G.number_of_edges())\n",
        "print('Density:',nx.density(G)) \n",
        "print('Selfloops:',nx.number_of_selfloops(G)) \n",
        "k=0\n",
        "L=list(G.edges())\n",
        "for i in range(0,len(L)):\n",
        "  for j in range(i+1,len(L)):\n",
        "    if(L[i]==L[j]):\n",
        "      k+=1     \n",
        "print('Multiedges:', k)\n",
        "print('Average degree:', np.mean(degrees))\n",
        "print('Average clustering:',nx.average_clustering(G))\n",
        "for f in range(2,12):\n",
        "  print('f=',f)\n",
        "  G=nx.read_edgelist('rt-twitter-copen.txt', delimiter=' ') \n",
        "  G=rand_maslov_sn(G,f)\n",
        "  degrees=[d for node, d in G.degree()]\n",
        "  print('Nodes:',G.number_of_nodes()) \n",
        "  print('Edges:',G.number_of_edges())\n",
        "  print('Density:',nx.density(G)) \n",
        "  print('Selfloops:',nx.number_of_selfloops(G)) \n",
        "  k=0\n",
        "  L=list(G.edges())\n",
        "  for i in range(0,len(L)):\n",
        "    for j in range(i+1,len(L)):\n",
        "      if(L[i]==L[j]):\n",
        "        k+=1     \n",
        "  print('Multiedges:', k)\n",
        "  print('Average degree:', np.mean(degrees))\n",
        "  print('Average clustering:', nx.average_clustering(G))"
      ],
      "execution_count": null,
      "outputs": [
        {
          "output_type": "stream",
          "name": "stdout",
          "text": [
            "Nodes: 761\n",
            "Edges: 1029\n",
            "Density: 0.003558337367729442\n",
            "Selfloops: 0\n",
            "Multiedges: 0\n",
            "Average degree: 2.704336399474376\n",
            "Average clustering: 0.07588001028319721\n",
            "f= 2\n",
            "Nodes: 761\n",
            "Edges: 1029\n",
            "Density: 0.003558337367729442\n",
            "Selfloops: 0\n",
            "Multiedges: 0\n",
            "Average degree: 2.704336399474376\n",
            "Average clustering: 0.010071868807864776\n",
            "f= 3\n",
            "Nodes: 761\n",
            "Edges: 1029\n",
            "Density: 0.003558337367729442\n",
            "Selfloops: 0\n",
            "Multiedges: 0\n",
            "Average degree: 2.704336399474376\n",
            "Average clustering: 0.011701270836344785\n",
            "f= 4\n",
            "Nodes: 761\n",
            "Edges: 1029\n",
            "Density: 0.003558337367729442\n",
            "Selfloops: 0\n",
            "Multiedges: 0\n",
            "Average degree: 2.704336399474376\n",
            "Average clustering: 0.011858408374112698\n",
            "f= 5\n",
            "Nodes: 761\n",
            "Edges: 1029\n",
            "Density: 0.003558337367729442\n",
            "Selfloops: 0\n",
            "Multiedges: 0\n",
            "Average degree: 2.704336399474376\n",
            "Average clustering: 0.010057822622207025\n",
            "f= 6\n",
            "Nodes: 761\n",
            "Edges: 1029\n",
            "Density: 0.003558337367729442\n",
            "Selfloops: 0\n",
            "Multiedges: 0\n",
            "Average degree: 2.704336399474376\n",
            "Average clustering: 0.01237796760894064\n",
            "f= 7\n",
            "Nodes: 761\n",
            "Edges: 1029\n",
            "Density: 0.003558337367729442\n",
            "Selfloops: 0\n",
            "Multiedges: 0\n",
            "Average degree: 2.704336399474376\n",
            "Average clustering: 0.009391263330864982\n",
            "f= 8\n",
            "Nodes: 761\n",
            "Edges: 1029\n",
            "Density: 0.003558337367729442\n",
            "Selfloops: 0\n",
            "Multiedges: 0\n",
            "Average degree: 2.704336399474376\n",
            "Average clustering: 0.014116368091689573\n",
            "f= 9\n",
            "Nodes: 761\n",
            "Edges: 1029\n",
            "Density: 0.003558337367729442\n",
            "Selfloops: 0\n",
            "Multiedges: 0\n",
            "Average degree: 2.704336399474376\n",
            "Average clustering: 0.011940283103820408\n",
            "f= 10\n",
            "Nodes: 761\n",
            "Edges: 1029\n",
            "Density: 0.003558337367729442\n",
            "Selfloops: 0\n",
            "Multiedges: 0\n",
            "Average degree: 2.704336399474376\n",
            "Average clustering: 0.014885362878024928\n",
            "f= 11\n",
            "Nodes: 761\n",
            "Edges: 1029\n",
            "Density: 0.003558337367729442\n",
            "Selfloops: 0\n",
            "Multiedges: 0\n",
            "Average degree: 2.704336399474376\n",
            "Average clustering: 0.01403649324117142\n"
          ]
        }
      ]
    },
    {
      "cell_type": "markdown",
      "metadata": {
        "id": "sXsb40yA38XG"
      },
      "source": [
        "Большинство параметров получаются верными, кроме average cluctering, который получился лучше всего при f=10"
      ]
    }
  ]
}